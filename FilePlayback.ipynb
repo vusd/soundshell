{
 "cells": [
  {
   "cell_type": "code",
   "execution_count": 1,
   "metadata": {},
   "outputs": [],
   "source": [
    "# to expirment with sample playback"
   ]
  },
  {
   "cell_type": "code",
   "execution_count": 2,
   "metadata": {},
   "outputs": [],
   "source": [
    "import os, vlc, time, subprocess, re, wave, contextlib, csv, spacy"
   ]
  },
  {
   "cell_type": "code",
   "execution_count": 3,
   "metadata": {},
   "outputs": [],
   "source": [
    "nlp = spacy.load('en')"
   ]
  },
  {
   "cell_type": "code",
   "execution_count": 9,
   "metadata": {},
   "outputs": [],
   "source": [
    "# class to handle the Poems\n",
    "class Poem():\n",
    "    def __init__(self, first_line):\n",
    "        \"\"\"take in the first line which contains the name of the\n",
    "        poem as well a the path to a recording of the name of the poem\"\"\"\n",
    "        self.title = nlp(first_line[0])\n",
    "        self.durations = []\n",
    "        self.rec_paths = [first_line[1]]\n",
    "        self.text = [first_line[0]]\n",
    "        self.full_text = ''\n",
    "        \n",
    "        # get the authors name from folder name, add space between first and last\n",
    "        a = os.path.dirname(first_line[1][6:])\n",
    "        last_name_index = re.search(r'^([^A-Z]*[A-Z]){2}', a).span()[1] - 1\n",
    "        self.author = a[:last_name_index] + \" \" + a[last_name_index:]\n",
    "        \n",
    "        # for keeping track of the media\n",
    "        self.media = []\n",
    "        self.total_duration = None\n",
    "        self.instance = vlc.Instance()\n",
    "        \n",
    "        with contextlib.closing(wave.open(self.rec_paths[0],'r')) as f:\n",
    "            frames = f.getnframes()\n",
    "            rate = f.getframerate()\n",
    "            self.durations.append(frames / float(rate))\n",
    "            \n",
    "        self.total_duration = self.calculateTotalDuration(self.durations)\n",
    "        self.media.append(self.instance.media_new(self.rec_paths[-1]))\n",
    "    \n",
    "    def calculateTotalDuration(self, durs):\n",
    "        total_duration = 0.0\n",
    "        for dur in durs:\n",
    "            total_duration = total_duration + dur\n",
    "        return total_duration\n",
    "                          \n",
    "    def loadLine(self, line):\n",
    "        \"\"\"load in each individual line in the poem\"\"\"\n",
    "        self.text.append(nlp(line[0]))\n",
    "        self.full_text = self.full_text + \" \" + line[0]\n",
    "        self.rec_paths.append(line[1])\n",
    "        with contextlib.closing(wave.open(self.rec_paths[-1],'r')) as f:\n",
    "            frames = f.getnframes()\n",
    "            rate = f.getframerate()\n",
    "            self.durations.append(frames / float(rate))\n",
    "                          \n",
    "        self.media.append(self.instance.media_new(self.rec_paths[-1]))\n",
    "        self.total_duration = self.calculateTotalDuration(self.durations)\n",
    "    \n",
    "    def printStats(self, verbose=2):\n",
    "        print(\"author : \", self.author)\n",
    "        print(\"title : \", self.title)\n",
    "        print(\"paths : \", self.rec_paths[:verbose])\n",
    "        print(\"text : \", self.text[:verbose])\n",
    "        print(\"full text : \", self.full_text)\n",
    "        print(\"dur  : \", self.durations[:verbose])\n",
    "        print(\"total duration : \", self.total_duration)\n",
    "        print(\"media : \", self.media[:verbose])"
   ]
  },
  {
   "cell_type": "code",
   "execution_count": 10,
   "metadata": {},
   "outputs": [],
   "source": [
    "# helper functions from voiceshell.py\n",
    "def meanv(coords):\n",
    "    sumv = [0] * len(coords[0])\n",
    "    for item in coords:\n",
    "        for i in range(len(item)):\n",
    "            sumv[i] += item[i]\n",
    "    mean = [0] * len(sumv)\n",
    "    for i in range(len(sumv)):\n",
    "        mean[i] = float(sumv[i]) / len(coords)\n",
    "    return mean\n",
    "\n",
    "def cosine(v1, v2):\n",
    "    if norm(v1) > 0 and norm(v2) > 0:\n",
    "        return dot(v1, v2) / (norm(v1) * norm(v2))\n",
    "    else:\n",
    "        return 0.0\n",
    "\n",
    "def sentvec(s):\n",
    "    sent = nlp(s)\n",
    "    word_vectors = [w.vector for w in sent]\n",
    "    return meanv(word_vectors)\n",
    "\n",
    "def spacy_closest_sent(space, input_str, n=1):\n",
    "    input_vec = sentvec(input_str)\n",
    "    return sorted(space,\n",
    "                  key=lambda x: cosine(np.mean([w.vector for w in x], axis=0), input_vec), reverse=True)[:n]"
   ]
  },
  {
   "cell_type": "code",
   "execution_count": 11,
   "metadata": {},
   "outputs": [],
   "source": [
    "# a class to handle playback\n",
    "class PlaybackEngine():\n",
    "    def __init__(self):\n",
    "        instance = vlc.Instance()\n",
    "        self.player = instance.media_player_new()\n",
    "\n",
    "    def playAll(self, poem, verbose=False):\n",
    "        if type(poem) is list:\n",
    "            for p in poem:\n",
    "                if verbose is True:\n",
    "                    print(\"----------------------------------------\")\n",
    "                    print(p.author,\": \", p.title, \" : \", p.total_duration)\n",
    "                for i, media in enumerate(p.media):\n",
    "                    if verbose is True:\n",
    "                        print(p.text[i], \" : \", p.durations[i])\n",
    "                    self.player.set_media(media)\n",
    "                    self.player.play()\n",
    "                    time.sleep(p.durations[i])\n",
    "        elif type(poem) is Poem:\n",
    "            self.playTitle(poem)\n",
    "            if verbose is True:\n",
    "                print(poem.author, \": \", poem.title, \" : \", poem.total_duration)\n",
    "            for i, media in enumerate(poem.media):\n",
    "                if verbose is True:\n",
    "                    print(poem.text[i])\n",
    "                self.player.set_media(media)\n",
    "                self.player.play()\n",
    "                time.sleep(poem.durations[i])\n",
    "        else:\n",
    "            print(\"Please pass a Poem object into the play function\")\n",
    "    \n",
    "    def playPart(self, poem, part, verbose=False):\n",
    "        if verbose is True:\n",
    "            print(poem.author,\": \", poem.title, \n",
    "                  \" : line number \", part, \" : \", poem.text[part])\n",
    "        self.player.set_media(poem.media[part])\n",
    "        self.player.play()\n",
    "        time.sleep(poem.durations[part])\n",
    "        \n",
    "    def playTitle(self, poem, verbose=False):\n",
    "        if verbose is True:\n",
    "            print(\"poet: \", poem.author,\" : \", poem.title)\n",
    "        self.player.set_media(poem.media[0])\n",
    "        self.player.play()\n",
    "        time.sleep(poem.durations[0])"
   ]
  },
  {
   "cell_type": "code",
   "execution_count": 12,
   "metadata": {},
   "outputs": [],
   "source": [
    "# create a playback engine\n",
    "pe = PlaybackEngine()"
   ]
  },
  {
   "cell_type": "code",
   "execution_count": 13,
   "metadata": {},
   "outputs": [],
   "source": [
    "# time to get the poem text\n",
    "csv_file = 'voiceshell_audio_LUT.csv'\n",
    "def loadCSV(csv_file):\n",
    "    with open(csv_file, 'r') as f:\n",
    "        reader = csv.reader(f)\n",
    "        all_lines = list(reader)\n",
    "\n",
    "    poems = []\n",
    "    last_author = None\n",
    "    current_author = None\n",
    "    for line in all_lines:\n",
    "        last_author = current_author\n",
    "        current_author = os.path.dirname(line[1][6:])\n",
    "        if current_author == \"\":\n",
    "            pass\n",
    "            # print(\"blank line :  \", line)\n",
    "        elif current_author != last_author:\n",
    "            if len(poems) > 0:\n",
    "                pass\n",
    "                # poems[-1].printStats()\n",
    "            poems.append(Poem(line))\n",
    "        else:\n",
    "            poems[-1].loadLine(line)\n",
    "    return poems\n",
    "    \n",
    "poems = loadCSV(csv_file)"
   ]
  },
  {
   "cell_type": "code",
   "execution_count": 14,
   "metadata": {},
   "outputs": [],
   "source": [
    "# can use the printStats method to get info about each poem\n",
    "# poems[1].printStats()"
   ]
  },
  {
   "cell_type": "code",
   "execution_count": 15,
   "metadata": {},
   "outputs": [
    {
     "name": "stdout",
     "output_type": "stream",
     "text": [
      "31\n"
     ]
    }
   ],
   "source": [
    "print(len(poems))"
   ]
  },
  {
   "cell_type": "code",
   "execution_count": 16,
   "metadata": {},
   "outputs": [
    {
     "name": "stdout",
     "output_type": "stream",
     "text": [
      "----------------------------------------\n",
      "Angela Andrews :  White Saris  :  48.37877551020408\n",
      "White Saris  :  2.034081632653061\n",
      "What I knew of their house was a blue garage door, kicked-in at the middle.  :  6.326485260770975\n",
      "A buckling dent.  :  2.2381632653061225\n",
      "You approach a scene like that with caution.  :  3.5781632653061224\n",
      "It takes time to know whether to pause or hurry, head down.  :  5.404081632653061\n",
      "Their glowing white saris on this grey marble day.  :  4.904081632653061\n",
      "Outside the buckled door, a station wagon, black.  :  5.274081632653061\n",
      "I was thinking of you. How you will find out.  :  4.168163265306123\n",
      "The black suit you will wear.  :  2.304081632653061\n",
      "How the feel of your best white shirt could hurt.  :  3.804081632653061\n",
      "How silk might hang in a cold wardrobe.  :  3.7740816326530613\n",
      "I pushed you through those people.   :  2.804081632653061\n",
      "I pushed you along the road.  :  1.7651473922902494\n",
      "----------------------------------------\n",
      "Tusiata Avia :  Shower  :  109.21975056689341\n",
      "Shower  :  1.1340816326530612\n",
      "to S.  :  1.4740816326530612\n",
      "That next morning as I stepped from the shower I caught myself in the mirror, I was shocked to see the marks like blackened flowers fallen onto snow, fluttering down the backs of my thighs like finding something huge and succulent and moving.  :  20.83408163265306\n",
      "I looked closer between my thighs and on the cheeks of my bottom and found the purple blooms  :  8.174081632653062\n",
      "And right then, the way they say people on the verge of death see their lives flash, I saw him behind me I saw his hands twisted in black fistfuls, my scalp scorched my throat curved up like an invitation glistening to a blade and my mouth open wide like the death cries of small gods.  :  25.90408163265306\n"
     ]
    },
    {
     "ename": "KeyboardInterrupt",
     "evalue": "",
     "output_type": "error",
     "traceback": [
      "\u001b[0;31m---------------------------------------------------------------------------\u001b[0m",
      "\u001b[0;31mKeyboardInterrupt\u001b[0m                         Traceback (most recent call last)",
      "\u001b[0;32m<ipython-input-16-d155459afaff>\u001b[0m in \u001b[0;36m<module>\u001b[0;34m()\u001b[0m\n\u001b[1;32m      1\u001b[0m \u001b[0;31m# play through all the poems one at a time in order\u001b[0m\u001b[0;34m\u001b[0m\u001b[0;34m\u001b[0m\u001b[0m\n\u001b[0;32m----> 2\u001b[0;31m \u001b[0mpe\u001b[0m\u001b[0;34m.\u001b[0m\u001b[0mplayAll\u001b[0m\u001b[0;34m(\u001b[0m\u001b[0mpoems\u001b[0m\u001b[0;34m[\u001b[0m\u001b[0;36m1\u001b[0m\u001b[0;34m:\u001b[0m\u001b[0;34m]\u001b[0m\u001b[0;34m,\u001b[0m \u001b[0mverbose\u001b[0m\u001b[0;34m=\u001b[0m\u001b[0;32mTrue\u001b[0m\u001b[0;34m)\u001b[0m\u001b[0;34m\u001b[0m\u001b[0m\n\u001b[0m",
      "\u001b[0;32m<ipython-input-11-d832bc637e96>\u001b[0m in \u001b[0;36mplayAll\u001b[0;34m(self, poem, verbose)\u001b[0m\n\u001b[1;32m     16\u001b[0m                     \u001b[0mself\u001b[0m\u001b[0;34m.\u001b[0m\u001b[0mplayer\u001b[0m\u001b[0;34m.\u001b[0m\u001b[0mset_media\u001b[0m\u001b[0;34m(\u001b[0m\u001b[0mmedia\u001b[0m\u001b[0;34m)\u001b[0m\u001b[0;34m\u001b[0m\u001b[0m\n\u001b[1;32m     17\u001b[0m                     \u001b[0mself\u001b[0m\u001b[0;34m.\u001b[0m\u001b[0mplayer\u001b[0m\u001b[0;34m.\u001b[0m\u001b[0mplay\u001b[0m\u001b[0;34m(\u001b[0m\u001b[0;34m)\u001b[0m\u001b[0;34m\u001b[0m\u001b[0m\n\u001b[0;32m---> 18\u001b[0;31m                     \u001b[0mtime\u001b[0m\u001b[0;34m.\u001b[0m\u001b[0msleep\u001b[0m\u001b[0;34m(\u001b[0m\u001b[0mp\u001b[0m\u001b[0;34m.\u001b[0m\u001b[0mdurations\u001b[0m\u001b[0;34m[\u001b[0m\u001b[0mi\u001b[0m\u001b[0;34m]\u001b[0m\u001b[0;34m)\u001b[0m\u001b[0;34m\u001b[0m\u001b[0m\n\u001b[0m\u001b[1;32m     19\u001b[0m         \u001b[0;32melif\u001b[0m \u001b[0mtype\u001b[0m\u001b[0;34m(\u001b[0m\u001b[0mpoem\u001b[0m\u001b[0;34m)\u001b[0m \u001b[0;32mis\u001b[0m \u001b[0mPoem\u001b[0m\u001b[0;34m:\u001b[0m\u001b[0;34m\u001b[0m\u001b[0m\n\u001b[1;32m     20\u001b[0m             \u001b[0mself\u001b[0m\u001b[0;34m.\u001b[0m\u001b[0mplayTitle\u001b[0m\u001b[0;34m(\u001b[0m\u001b[0mpoem\u001b[0m\u001b[0;34m)\u001b[0m\u001b[0;34m\u001b[0m\u001b[0m\n",
      "\u001b[0;31mKeyboardInterrupt\u001b[0m: "
     ]
    }
   ],
   "source": [
    "# play through all the poems one at a time in order\n",
    "pe.playAll(poems[1:], verbose=True)"
   ]
  },
  {
   "cell_type": "code",
   "execution_count": 365,
   "metadata": {},
   "outputs": [
    {
     "name": "stdout",
     "output_type": "stream",
     "text": [
      "Bob Orr :  Eternity  :  106.45938775510203\n",
      "Eternity\n",
      "Eternity is the traffic lights at Huntly before they change from red to green.\n",
      "I am lost in the enchantment of an ancient entertainment.\n",
      "A wraith-like old wooden two-storey hotel a war memorial hall with a padlocked front door.\n",
      "the sour taste on my tongue of a dust and diesel railway station.\n",
      "miners cottages pale as mushrooms in the mist.\n",
      "a seesaw in the playground of a primary school.\n",
      "like scales that tilt toward injustice.\n",
      "all become fantastical and floating like some surreal craft now cut adrift by phantom boatmen.\n",
      "Tilted on the river’s broad traverse the topsy-turvy of its history down a surface cross threaded and riddled with mysteries wide from its flashing underbelly its streetlights like a gorse bloom’s yellow carnival through coal black waters voyaging this corridor of stars.\n",
      "Do I merely chance to catch a glimpse of Mum and Dad after a day out at the races waltzing on the balcony of the Waipa Hotel.\n",
      "Dad with his pockets full of fancy the town’s wake of champagne corks and ribbons Mum laughing as he murmurs something?\n",
      "All these years later in a midsummer night’s dreamas I’m saying hullo and saying goodbye to them waiting at the traffic lights as Huntly floats downstream.\n"
     ]
    }
   ],
   "source": [
    "# play a random single poem in its entirety\n",
    "pe.playAll(poems[random.randint(0, len(poems))], verbose=True)"
   ]
  },
  {
   "cell_type": "code",
   "execution_count": 17,
   "metadata": {},
   "outputs": [
    {
     "name": "stdout",
     "output_type": "stream",
     "text": [
      "poet:  Amy Brown  :  The Propaganda Poster Girl\n",
      "poet:  Angela Andrews  :  White Saris\n",
      "poet:  Tusiata Avia  :  Shower\n",
      "poet:  Marty Smith  :  AGNUS DEI\n",
      "poet:  Sonja Yelich  :  and-yellow\n",
      "poet:  Anna Jackson  :  Spring\n",
      "poet:  Anna Livesey  :  Shoeman in Love\n",
      "poet:  Ashleigh Young  :  Certain Trees\n",
      "poet:  Bernadette Hall  :  The History of Europe\n",
      "poet:  Bob Orr  :  Eternity\n",
      "poet:  Brian Turner  :  Fear\n",
      "poet:  Chris Price  :  Rose and fell.\n",
      "poet:  Dinah Hawken  :  365 x 30.\n",
      "poet:  Elizabeth Smither  :  TWO SECURITY GUARDS TALKING ABOUT JUPITER.\n",
      "poet:  Frances Samuel  :  LIFE-DRAWING CLASS.\n",
      "poet:  Gordon Challis  :  Walking an imaginary dog.\n",
      "poet:  Graham Lindsay  :  big bed.\n",
      "poet:  Ian Wedde  :  To Death.\n",
      "poet:  Jennifer Compton  :  THE THREEPENNY KOWHAI STAMP BROOCH\n",
      "poet:  Joan Flemming  :  THEORY OF LIGHT\n",
      "poet:  John Dennison  :  LONE KAURI (REPRISE).\n",
      "poet:  John Gallas  :  THE MONGOLIAN WOMEN'S ORCHESTRA.\n",
      "poet:  Kay McKenzieCooke  :  SACRED DAYS.\n",
      "poet:  Kerrin PSharpe  :  LIKE RAIN THE THUNDER.\n",
      "poet:  Lynn Davidson  :  BEFORE WE ALL HUNG OUT IN CAFÉS\n",
      "poet:  Lynn Jenner  :  WOMENS BUSINESS.\n",
      "poet:  Mary Cresswell  :  Golden Weather (Cook Strait).\n",
      "poet:  Paula Green  :  Waitakere Rain.\n",
      "poet:  Peter Bland  :  X-Ray.\n",
      "poet:  Rhian Gallagher  :  The shovels stood in a sticky underbelly of earth as we stepped from the sidelines for him, peeling our jackets, the boys loosening their ties.\n",
      "poet:  Stephanie DeMontalk  :  Hawkeye V4\n"
     ]
    }
   ],
   "source": [
    "# play all the poem titles\n",
    "for poem in poems:\n",
    "    pe.playTitle(poem, verbose=True)"
   ]
  },
  {
   "cell_type": "code",
   "execution_count": 18,
   "metadata": {},
   "outputs": [
    {
     "name": "stdout",
     "output_type": "stream",
     "text": [
      "Graham Lindsay :  big bed.  : line number  2  :  Sleepy baby with the goldfish lips, deep dark lashes, angel-pink cheeks, ears like truffles, or hatchcovers for underground shelters.\n"
     ]
    },
    {
     "ename": "KeyboardInterrupt",
     "evalue": "",
     "output_type": "error",
     "traceback": [
      "\u001b[0;31m---------------------------------------------------------------------------\u001b[0m",
      "\u001b[0;31mKeyboardInterrupt\u001b[0m                         Traceback (most recent call last)",
      "\u001b[0;32m<ipython-input-18-3747bb31564c>\u001b[0m in \u001b[0;36m<module>\u001b[0;34m()\u001b[0m\n\u001b[1;32m      5\u001b[0m     \u001b[0;31m# print(poems[_index].printStats())\u001b[0m\u001b[0;34m\u001b[0m\u001b[0;34m\u001b[0m\u001b[0m\n\u001b[1;32m      6\u001b[0m     \u001b[0mpe\u001b[0m\u001b[0;34m.\u001b[0m\u001b[0mplayTitle\u001b[0m\u001b[0;34m(\u001b[0m\u001b[0mpoems\u001b[0m\u001b[0;34m[\u001b[0m\u001b[0mpoem_index\u001b[0m\u001b[0;34m]\u001b[0m\u001b[0;34m)\u001b[0m\u001b[0;34m\u001b[0m\u001b[0m\n\u001b[0;32m----> 7\u001b[0;31m     \u001b[0mpe\u001b[0m\u001b[0;34m.\u001b[0m\u001b[0mplayPart\u001b[0m\u001b[0;34m(\u001b[0m\u001b[0mpoems\u001b[0m\u001b[0;34m[\u001b[0m\u001b[0mpoem_index\u001b[0m\u001b[0;34m]\u001b[0m\u001b[0;34m,\u001b[0m \u001b[0msection_index\u001b[0m\u001b[0;34m,\u001b[0m \u001b[0mverbose\u001b[0m\u001b[0;34m=\u001b[0m\u001b[0;32mTrue\u001b[0m\u001b[0;34m)\u001b[0m\u001b[0;34m\u001b[0m\u001b[0m\n\u001b[0m",
      "\u001b[0;32m<ipython-input-11-d832bc637e96>\u001b[0m in \u001b[0;36mplayPart\u001b[0;34m(self, poem, part, verbose)\u001b[0m\n\u001b[1;32m     36\u001b[0m         \u001b[0mself\u001b[0m\u001b[0;34m.\u001b[0m\u001b[0mplayer\u001b[0m\u001b[0;34m.\u001b[0m\u001b[0mset_media\u001b[0m\u001b[0;34m(\u001b[0m\u001b[0mpoem\u001b[0m\u001b[0;34m.\u001b[0m\u001b[0mmedia\u001b[0m\u001b[0;34m[\u001b[0m\u001b[0mpart\u001b[0m\u001b[0;34m]\u001b[0m\u001b[0;34m)\u001b[0m\u001b[0;34m\u001b[0m\u001b[0m\n\u001b[1;32m     37\u001b[0m         \u001b[0mself\u001b[0m\u001b[0;34m.\u001b[0m\u001b[0mplayer\u001b[0m\u001b[0;34m.\u001b[0m\u001b[0mplay\u001b[0m\u001b[0;34m(\u001b[0m\u001b[0;34m)\u001b[0m\u001b[0;34m\u001b[0m\u001b[0m\n\u001b[0;32m---> 38\u001b[0;31m         \u001b[0mtime\u001b[0m\u001b[0;34m.\u001b[0m\u001b[0msleep\u001b[0m\u001b[0;34m(\u001b[0m\u001b[0mpoem\u001b[0m\u001b[0;34m.\u001b[0m\u001b[0mdurations\u001b[0m\u001b[0;34m[\u001b[0m\u001b[0mpart\u001b[0m\u001b[0;34m]\u001b[0m\u001b[0;34m)\u001b[0m\u001b[0;34m\u001b[0m\u001b[0m\n\u001b[0m\u001b[1;32m     39\u001b[0m \u001b[0;34m\u001b[0m\u001b[0m\n\u001b[1;32m     40\u001b[0m     \u001b[0;32mdef\u001b[0m \u001b[0mplayTitle\u001b[0m\u001b[0;34m(\u001b[0m\u001b[0mself\u001b[0m\u001b[0;34m,\u001b[0m \u001b[0mpoem\u001b[0m\u001b[0;34m,\u001b[0m \u001b[0mverbose\u001b[0m\u001b[0;34m=\u001b[0m\u001b[0;32mFalse\u001b[0m\u001b[0;34m)\u001b[0m\u001b[0;34m:\u001b[0m\u001b[0;34m\u001b[0m\u001b[0m\n",
      "\u001b[0;31mKeyboardInterrupt\u001b[0m: "
     ]
    }
   ],
   "source": [
    "# play a random line from a poem\n",
    "for i in range(0,10):\n",
    "    poem_index = random.randint(0, len(poems))\n",
    "    section_index = random.randint(0, len(poems[poem_index].text))\n",
    "    # print(poems[_index].printStats())\n",
    "    pe.playTitle(poems[poem_index])\n",
    "    pe.playPart(poems[poem_index], section_index, verbose=True)"
   ]
  },
  {
   "cell_type": "code",
   "execution_count": 23,
   "metadata": {},
   "outputs": [
    {
     "ename": "AttributeError",
     "evalue": "'Recognizer' object has no attribute 'Microphone'",
     "output_type": "error",
     "traceback": [
      "\u001b[0;31m---------------------------------------------------------------------------\u001b[0m",
      "\u001b[0;31mAttributeError\u001b[0m                            Traceback (most recent call last)",
      "\u001b[0;32m<ipython-input-23-0bd102d07fce>\u001b[0m in \u001b[0;36m<module>\u001b[0;34m()\u001b[0m\n\u001b[1;32m      4\u001b[0m \u001b[0;34m\u001b[0m\u001b[0m\n\u001b[1;32m      5\u001b[0m \u001b[0msr\u001b[0m \u001b[0;34m=\u001b[0m \u001b[0msr\u001b[0m\u001b[0;34m.\u001b[0m\u001b[0mRecognizer\u001b[0m\u001b[0;34m(\u001b[0m\u001b[0;34m)\u001b[0m\u001b[0;34m\u001b[0m\u001b[0m\n\u001b[0;32m----> 6\u001b[0;31m \u001b[0;32mwith\u001b[0m \u001b[0msr\u001b[0m\u001b[0;34m.\u001b[0m\u001b[0mMicrophone\u001b[0m\u001b[0;34m(\u001b[0m\u001b[0;34m)\u001b[0m \u001b[0;32mas\u001b[0m \u001b[0msource\u001b[0m\u001b[0;34m:\u001b[0m\u001b[0;34m\u001b[0m\u001b[0m\n\u001b[0m\u001b[1;32m      7\u001b[0m     \u001b[0mprint\u001b[0m\u001b[0;34m(\u001b[0m\u001b[0;34m\"Calibrating microphone for ambient noise... (this will take 5 seconds)\"\u001b[0m\u001b[0;34m)\u001b[0m\u001b[0;34m\u001b[0m\u001b[0m\n\u001b[1;32m      8\u001b[0m     \u001b[0mr\u001b[0m\u001b[0;34m.\u001b[0m\u001b[0madjust_for_ambient_noise\u001b[0m\u001b[0;34m(\u001b[0m\u001b[0msource\u001b[0m\u001b[0;34m,\u001b[0m \u001b[0mduration\u001b[0m\u001b[0;34m=\u001b[0m\u001b[0;36m5\u001b[0m\u001b[0;34m)\u001b[0m\u001b[0;34m\u001b[0m\u001b[0m\n",
      "\u001b[0;31mAttributeError\u001b[0m: 'Recognizer' object has no attribute 'Microphone'"
     ]
    }
   ],
   "source": [
    "# set up the voice recognition port of the program\n",
    "import speech_recognition as sr\n",
    "import pyaudio\n",
    "\n",
    "sr = sr.Recognizer()\n",
    "with sr.Microphone() as source:\n",
    "    print(\"Calibrating microphone for ambient noise... (this will take 5 seconds)\")\n",
    "    r.adjust_for_ambient_noise(source, duration=5)"
   ]
  },
  {
   "cell_type": "code",
   "execution_count": 5,
   "metadata": {},
   "outputs": [
    {
     "ename": "FileNotFoundError",
     "evalue": "[Errno 2] No such file or directory: '/home/pi/voiceshell/Audio/AmyBrown/AmyBrown10.wav'",
     "output_type": "error",
     "traceback": [
      "\u001b[0;31m---------------------------------------------------------------------------\u001b[0m",
      "\u001b[0;31mFileNotFoundError\u001b[0m                         Traceback (most recent call last)",
      "\u001b[0;32m<ipython-input-5-71b43f4f6e5c>\u001b[0m in \u001b[0;36m<module>\u001b[0;34m()\u001b[0m\n\u001b[1;32m      9\u001b[0m \u001b[0;34m\u001b[0m\u001b[0m\n\u001b[1;32m     10\u001b[0m \u001b[0;31m#open a wav format music\u001b[0m\u001b[0;34m\u001b[0m\u001b[0;34m\u001b[0m\u001b[0m\n\u001b[0;32m---> 11\u001b[0;31m \u001b[0mf\u001b[0m \u001b[0;34m=\u001b[0m \u001b[0mwave\u001b[0m\u001b[0;34m.\u001b[0m\u001b[0mopen\u001b[0m\u001b[0;34m(\u001b[0m\u001b[0;34mr\"/home/pi/voiceshell/Audio/AmyBrown/AmyBrown10.wav\"\u001b[0m\u001b[0;34m,\u001b[0m\u001b[0;34m\"rb\"\u001b[0m\u001b[0;34m)\u001b[0m\u001b[0;34m\u001b[0m\u001b[0m\n\u001b[0m\u001b[1;32m     12\u001b[0m \u001b[0;31m#instantiate PyAudio\u001b[0m\u001b[0;34m\u001b[0m\u001b[0;34m\u001b[0m\u001b[0m\n\u001b[1;32m     13\u001b[0m \u001b[0mp\u001b[0m \u001b[0;34m=\u001b[0m \u001b[0mpyaudio\u001b[0m\u001b[0;34m.\u001b[0m\u001b[0mPyAudio\u001b[0m\u001b[0;34m(\u001b[0m\u001b[0;34m)\u001b[0m\u001b[0;34m\u001b[0m\u001b[0m\n",
      "\u001b[0;32m/Users/nathan/.pyenv/versions/3.5.1/Python.framework/Versions/3.5/lib/python3.5/wave.py\u001b[0m in \u001b[0;36mopen\u001b[0;34m(f, mode)\u001b[0m\n\u001b[1;32m    497\u001b[0m             \u001b[0mmode\u001b[0m \u001b[0;34m=\u001b[0m \u001b[0;34m'rb'\u001b[0m\u001b[0;34m\u001b[0m\u001b[0m\n\u001b[1;32m    498\u001b[0m     \u001b[0;32mif\u001b[0m \u001b[0mmode\u001b[0m \u001b[0;32min\u001b[0m \u001b[0;34m(\u001b[0m\u001b[0;34m'r'\u001b[0m\u001b[0;34m,\u001b[0m \u001b[0;34m'rb'\u001b[0m\u001b[0;34m)\u001b[0m\u001b[0;34m:\u001b[0m\u001b[0;34m\u001b[0m\u001b[0m\n\u001b[0;32m--> 499\u001b[0;31m         \u001b[0;32mreturn\u001b[0m \u001b[0mWave_read\u001b[0m\u001b[0;34m(\u001b[0m\u001b[0mf\u001b[0m\u001b[0;34m)\u001b[0m\u001b[0;34m\u001b[0m\u001b[0m\n\u001b[0m\u001b[1;32m    500\u001b[0m     \u001b[0;32melif\u001b[0m \u001b[0mmode\u001b[0m \u001b[0;32min\u001b[0m \u001b[0;34m(\u001b[0m\u001b[0;34m'w'\u001b[0m\u001b[0;34m,\u001b[0m \u001b[0;34m'wb'\u001b[0m\u001b[0;34m)\u001b[0m\u001b[0;34m:\u001b[0m\u001b[0;34m\u001b[0m\u001b[0m\n\u001b[1;32m    501\u001b[0m         \u001b[0;32mreturn\u001b[0m \u001b[0mWave_write\u001b[0m\u001b[0;34m(\u001b[0m\u001b[0mf\u001b[0m\u001b[0;34m)\u001b[0m\u001b[0;34m\u001b[0m\u001b[0m\n",
      "\u001b[0;32m/Users/nathan/.pyenv/versions/3.5.1/Python.framework/Versions/3.5/lib/python3.5/wave.py\u001b[0m in \u001b[0;36m__init__\u001b[0;34m(self, f)\u001b[0m\n\u001b[1;32m    157\u001b[0m         \u001b[0mself\u001b[0m\u001b[0;34m.\u001b[0m\u001b[0m_i_opened_the_file\u001b[0m \u001b[0;34m=\u001b[0m \u001b[0;32mNone\u001b[0m\u001b[0;34m\u001b[0m\u001b[0m\n\u001b[1;32m    158\u001b[0m         \u001b[0;32mif\u001b[0m \u001b[0misinstance\u001b[0m\u001b[0;34m(\u001b[0m\u001b[0mf\u001b[0m\u001b[0;34m,\u001b[0m \u001b[0mstr\u001b[0m\u001b[0;34m)\u001b[0m\u001b[0;34m:\u001b[0m\u001b[0;34m\u001b[0m\u001b[0m\n\u001b[0;32m--> 159\u001b[0;31m             \u001b[0mf\u001b[0m \u001b[0;34m=\u001b[0m \u001b[0mbuiltins\u001b[0m\u001b[0;34m.\u001b[0m\u001b[0mopen\u001b[0m\u001b[0;34m(\u001b[0m\u001b[0mf\u001b[0m\u001b[0;34m,\u001b[0m \u001b[0;34m'rb'\u001b[0m\u001b[0;34m)\u001b[0m\u001b[0;34m\u001b[0m\u001b[0m\n\u001b[0m\u001b[1;32m    160\u001b[0m             \u001b[0mself\u001b[0m\u001b[0;34m.\u001b[0m\u001b[0m_i_opened_the_file\u001b[0m \u001b[0;34m=\u001b[0m \u001b[0mf\u001b[0m\u001b[0;34m\u001b[0m\u001b[0m\n\u001b[1;32m    161\u001b[0m         \u001b[0;31m# else, assume it is an open file object already\u001b[0m\u001b[0;34m\u001b[0m\u001b[0;34m\u001b[0m\u001b[0m\n",
      "\u001b[0;31mFileNotFoundError\u001b[0m: [Errno 2] No such file or directory: '/home/pi/voiceshell/Audio/AmyBrown/AmyBrown10.wav'"
     ]
    }
   ],
   "source": [
    "#!usr/bin/env python  \n",
    "#coding=utf-8  \n",
    "\n",
    "import pyaudio  \n",
    "import wave  \n",
    "\n",
    "#define stream chunk   \n",
    "chunk = 1024  \n",
    "\n",
    "#open a wav format music  \n",
    "f = wave.open(r\"/home/pi/voiceshell/Audio/AmyBrown/AmyBrown10.wav\",\"rb\")  \n",
    "#instantiate PyAudio  \n",
    "p = pyaudio.PyAudio()  \n",
    "#open stream  \n",
    "stream = p.open(format = p.get_format_from_width(f.getsampwidth()),  \n",
    "                channels = f.getnchannels(),  \n",
    "                rate = f.getframerate(),  \n",
    "                output = True)  \n",
    "#read data  \n",
    "data = f.readframes(chunk)  \n",
    "\n",
    "#play stream  \n",
    "while data:  \n",
    "    stream.write(data)  \n",
    "    data = f.readframes(chunk)  \n",
    "\n",
    "#stop stream  \n",
    "stream.stop_stream()  \n",
    "stream.close()  \n",
    "\n",
    "#close PyAudio  \n",
    "p.terminate()  "
   ]
  },
  {
   "cell_type": "code",
   "execution_count": null,
   "metadata": {},
   "outputs": [],
   "source": []
  }
 ],
 "metadata": {
  "kernelspec": {
   "display_name": "Python 3",
   "language": "python",
   "name": "python3"
  },
  "language_info": {
   "codemirror_mode": {
    "name": "ipython",
    "version": 3
   },
   "file_extension": ".py",
   "mimetype": "text/x-python",
   "name": "python",
   "nbconvert_exporter": "python",
   "pygments_lexer": "ipython3",
   "version": "3.5.1"
  }
 },
 "nbformat": 4,
 "nbformat_minor": 2
}
