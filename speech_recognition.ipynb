{
 "cells": [
  {
   "cell_type": "code",
   "execution_count": 1,
   "metadata": {},
   "outputs": [
    {
     "name": "stderr",
     "output_type": "stream",
     "text": [
      "/Users/nathan/.pyenv/versions/3.5.1/Python.framework/Versions/3.5/lib/python3.5/site-packages/fuzzywuzzy/fuzz.py:35: UserWarning: Using slow pure-python SequenceMatcher. Install python-Levenshtein to remove this warning\n",
      "  warnings.warn('Using slow pure-python SequenceMatcher. Install python-Levenshtein to remove this warning')\n"
     ]
    }
   ],
   "source": [
    "# this notebook is for developing the speech_recognition system\n",
    "from __future__ import unicode_literals\n",
    "import math\n",
    "import random\n",
    "import spacy\n",
    "import time\n",
    "import csv\n",
    "import numpy as np\n",
    "from numpy import dot\n",
    "from numpy.linalg import norm\n",
    "import wave, sys, pyaudio\n",
    "import speech_recognition as sr\n",
    "import pyttsx3\n",
    "from fuzzywuzzy import fuzz\n",
    "from fuzzywuzzy import process"
   ]
  },
  {
   "cell_type": "code",
   "execution_count": 2,
   "metadata": {},
   "outputs": [
    {
     "name": "stdout",
     "output_type": "stream",
     "text": [
      "Voiceshell starting...\n"
     ]
    }
   ],
   "source": [
    "#this code was taken from the voiceshell.py program\n",
    "\n",
    "\"\"\"\n",
    "def roboVoice(statement):\n",
    "    engine = pyttsx3.init();\n",
    "    rate = engine.getProperty('rate')\n",
    "    engine.setProperty('rate', rate-25)\n",
    "    voices = engine.getProperty('voices')\n",
    "    engine.setProperty('voice', 'en-uk-rp')\n",
    "    engine.say(statement)\n",
    "    engine.runAndWait()\n",
    "\"\"\"\n",
    "\n",
    "print(\"Voiceshell starting...\")\n",
    "# roboVoice(\"Ahem. Starting...\")\n",
    "def meanv(coords):\n",
    "    sumv = [0] * len(coords[0])\n",
    "    for item in coords:\n",
    "        for i in range(len(item)):\n",
    "            sumv[i] += item[i]\n",
    "    mean = [0] * len(sumv)\n",
    "    for i in range(len(sumv)):\n",
    "        mean[i] = float(sumv[i]) / len(coords)\n",
    "    return mean\n",
    "\n",
    "def cosine(v1, v2):\n",
    "    if norm(v1) > 0 and norm(v2) > 0:\n",
    "        return dot(v1, v2) / (norm(v1) * norm(v2))\n",
    "    else:\n",
    "        return 0.0\n",
    "\n",
    "def sentvec(s):\n",
    "    sent = nlp(s)\n",
    "    word_vectors = [w.vector for w in sent]\n",
    "    return meanv(word_vectors)\n",
    "\n",
    "def spacy_closest_sent(space, input_str, n=1):\n",
    "    input_vec = sentvec(input_str)\n",
    "    return sorted(space,\n",
    "                  key=lambda x: cosine(np.mean([w.vector for w in x], axis=0), input_vec), reverse=True)[:n]\n",
    "\n",
    "nlp = spacy.load('en')\n"
   ]
  },
  {
   "cell_type": "code",
   "execution_count": 5,
   "metadata": {},
   "outputs": [
    {
     "name": "stdout",
     "output_type": "stream",
     "text": [
      "Loading text...\n",
      "Done.\n",
      "Starting up speech recognition...\n",
      "Calibrating microphone for ambient noise... (this will take 5 seconds)\n",
      "Done, starting program.\n"
     ]
    }
   ],
   "source": [
    "# more code taken from voiceshell.py\n",
    "print(\"Loading text...\")\n",
    "# roboVoice(\"Loading text files...\")\n",
    "corpusFile = 'voiceshell_audio_LUT.csv'\n",
    "\n",
    "with open(corpusFile, 'r') as f:\n",
    "    reader = csv.reader(f)\n",
    "    all_lines = list(reader)\n",
    "\n",
    "audio_lookup_table = {}\n",
    "sentences = []\n",
    "for line in all_lines:\n",
    "    sentence = line[0]\n",
    "    if not sentence.isspace():\n",
    "        sentences.append(nlp(sentence))\n",
    "    filename = line[1]\n",
    "    audio_lookup_table[sentence] = filename\n",
    "print(\"Done.\")\n",
    "# roboVoice(\"Starting speech recognition...\")\n",
    "print(\"Starting up speech recognition...\")\n",
    "r = sr.Recognizer()\n",
    "with sr.Microphone() as source:\n",
    "    print(\"Calibrating microphone for ambient noise... (this will take 5 seconds)\")\n",
    "    # roboVoice(\"Calibrating microphone for ambient noise... (this will take 5 seconds)\")\n",
    "    r.adjust_for_ambient_noise(source, duration=5)\n",
    "    print(\"Done, starting program.\")\n",
    "    # roboVoice(\"Done, starting program.\")\n",
    "\n",
    "def runLoop():\n",
    "    # roboVoice(\"I'm listening...\")\n",
    "    print(\"Say something!\")\n",
    "\n",
    "    with sr.Microphone() as source:\n",
    "        audio = r.listen(source)\n",
    "    try:\n",
    "        userInput = r.recognize_sphinx(audio)\n",
    "        print(\"you said : \", userInput)\n",
    "\n",
    "        matched = process.extractBests(userInput, sentences, score_cutoff = 60)\n",
    "\n",
    "        if(userInput == 'open the pod bay doors'):\n",
    "            audioFile = 'PoemsAudio/sorry.wav'\n",
    "\n",
    "        elif not matched:\n",
    "            for sent in spacy_closest_sent(sentences, userInput):\n",
    "                output = sent.text\n",
    "                print(output)\n",
    "\n",
    "            audioFile = audio_lookup_table[output]\n",
    "            print(audioFile)\n",
    "\n",
    "        else:\n",
    "            output = random.choice(matched)\n",
    "            cleaned_output = str(output[0])\n",
    "            print(cleaned_output)\n",
    "\n",
    "            audioFile = audio_lookup_table[cleaned_output]\n",
    "            print(audioFile)\n",
    "\n",
    "        sound = wave.open(audioFile)\n",
    "        p = pyaudio.PyAudio()\n",
    "        chunk = 1024\n",
    "        stream = p.open(format = p.get_format_from_width(sound.getsampwidth()), channels = sound.getnchannels(), rate = sound.getframerate(), output = True)\n",
    "        data = sound.readframes(chunk)\n",
    "        while len(data) > 0:\n",
    "            stream.write(data)\n",
    "            data = sound.readframes(chunk)\n",
    "        stream.stop_stream()\n",
    "        stream.close()\n",
    "\n",
    "        p.terminate\n",
    "    except sr.UnknownValueError:\n",
    "        # roboVoice(\"Sorry, I couldn't understand that.\")\n",
    "        print(\"Sorry, I didn't understand that.\")\n",
    "    except sr.RequestError as e:\n",
    "        # roboVoice(\"Sphinx Error {0}\".format(e))\n",
    "        print(\"Sphinx recognition error; {0}\".format(e))\n"
   ]
  },
  {
   "cell_type": "code",
   "execution_count": 6,
   "metadata": {},
   "outputs": [
    {
     "name": "stdout",
     "output_type": "stream",
     "text": [
      "Say something!\n",
      "you said :  but let me say something right now the new nurse and i'm saying\n",
      "I was all over the city, flapping against plane trees and rolling down the street with other rubbish.\n",
      "Audio/AmyBrown/AmyBrown8.wav\n"
     ]
    }
   ],
   "source": [
    "runLoop()"
   ]
  },
  {
   "cell_type": "code",
   "execution_count": null,
   "metadata": {},
   "outputs": [],
   "source": []
  }
 ],
 "metadata": {
  "kernelspec": {
   "display_name": "Python 3",
   "language": "python",
   "name": "python3"
  },
  "language_info": {
   "codemirror_mode": {
    "name": "ipython",
    "version": 3
   },
   "file_extension": ".py",
   "mimetype": "text/x-python",
   "name": "python",
   "nbconvert_exporter": "python",
   "pygments_lexer": "ipython3",
   "version": "3.5.1"
  }
 },
 "nbformat": 4,
 "nbformat_minor": 2
}
